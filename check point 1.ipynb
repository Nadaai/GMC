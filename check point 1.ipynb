{
 "cells": [
  {
   "cell_type": "code",
   "execution_count": null,
   "metadata": {},
   "outputs": [],
   "source": [
    "#ex1 \n",
    "l = []\n",
    "for i in range (2000,3201):\n",
    "    if i%7==0 and i%5!=0:\n",
    "        l.append(i)\n",
    "print(l) "
   ]
  },
  {
   "cell_type": "code",
   "execution_count": null,
   "metadata": {},
   "outputs": [],
   "source": [
    "#ex2 \n",
    "x = int (input('give me a number:'))\n",
    "p=1\n",
    "for i in range (2,x+1):\n",
    "\n",
    "        p=p*i\n",
    "if x >= 0 :\n",
    "    print(\"the factoriel of \" , x , \"is \", p)\n",
    "else :\n",
    "    print(\"erreur\")\n"
   ]
  },
  {
   "cell_type": "code",
   "execution_count": null,
   "metadata": {},
   "outputs": [],
   "source": [
    "#ex3\n",
    "x=int(input(\"put a number:\"))\n",
    "d=dict()\n",
    "for i in range(1,y+1):\n",
    "    d[i]=i**2\n",
    "print(d)"
   ]
  },
  {
   "cell_type": "code",
   "execution_count": null,
   "metadata": {},
   "outputs": [],
   "source": [
    "#ex4\n",
    "def remove_cha(s,j):\n",
    "    o = s[:j]+s[j+1:]\n",
    "    return o \n",
    "ch=input(\"write the word:\")\n",
    "i=int(input(\"write the number:\"))\n",
    "remove_cha(ch,i)\n",
    "\n"
   ]
  },
  {
   "cell_type": "code",
   "execution_count": null,
   "metadata": {},
   "outputs": [],
   "source": [
    "#ex5\n",
    "import numpy as np\n",
    "l=[]\n",
    "new_array=np.array([[0,1],[2,3]])\n",
    "new_array.tolist()"
   ]
  },
  {
   "cell_type": "code",
   "execution_count": null,
   "metadata": {},
   "outputs": [],
   "source": [
    "#ex6\n",
    "import numpy as np \n",
    "new_array1=np.array([[0,1,2]])\n",
    "new_array2=np.array([[2,1,0]])\n",
    "np.cov(new_array1,new_array2)"
   ]
  },
  {
   "cell_type": "code",
   "execution_count": null,
   "metadata": {},
   "outputs": [],
   "source": [
    "#ex7\n",
    "def sqr (d):\n",
    "    l = d.split(\",\")\n",
    "    c = 50\n",
    "    h = 30\n",
    "    o = []\n",
    "    for d in l:\n",
    "        q = int (((2*c*int(d)/ h))**(1/2) )\n",
    "        o.append(str (q))\n",
    "    return \",\".join(o)     \n",
    "d = input()\n",
    "sqr(d)"
   ]
  }
 ],
 "metadata": {
  "kernelspec": {
   "display_name": "Python 3",
   "language": "python",
   "name": "python3"
  },
  "language_info": {
   "codemirror_mode": {
    "name": "ipython",
    "version": 3
   },
   "file_extension": ".py",
   "mimetype": "text/x-python",
   "name": "python",
   "nbconvert_exporter": "python",
   "pygments_lexer": "ipython3",
   "version": "3.8.3"
  }
 },
 "nbformat": 4,
 "nbformat_minor": 4
}
